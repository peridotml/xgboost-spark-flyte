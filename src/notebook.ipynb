{
 "cells": [
  {
   "cell_type": "code",
   "execution_count": null,
   "id": "2cf45baf-76ba-4ead-8f9a-0c0538ecb372",
   "metadata": {
    "tags": [
     "parameters"
    ]
   },
   "outputs": [],
   "source": [
    "results_path = None"
   ]
  },
  {
   "cell_type": "markdown",
   "id": "92492396-c25a-45ea-aa1f-5f4662a2cfae",
   "metadata": {
    "tags": []
   },
   "source": [
    "# Grid Search Results"
   ]
  },
  {
   "cell_type": "code",
   "execution_count": null,
   "id": "21f7ce38-fb89-4682-ac46-51d97727f6a2",
   "metadata": {},
   "outputs": [],
   "source": [
    "from flytekit.types.file import FlyteFile\n",
    "import pandas as pd\n",
    "\n",
    "local_path = FlyteFile(path=results_path).download()\n",
    "df = pd.read_parquet(local_path)\n",
    "\n",
    "df.sort_values(by=\"metric\", ascending=False)"
   ]
  }
 ],
 "metadata": {
  "kernelspec": {
   "display_name": "Python 3 (ipykernel)",
   "language": "python",
   "name": "python3"
  },
  "language_info": {
   "codemirror_mode": {
    "name": "ipython",
    "version": 3
   },
   "file_extension": ".py",
   "mimetype": "text/x-python",
   "name": "python",
   "nbconvert_exporter": "python",
   "pygments_lexer": "ipython3",
   "version": "3.10.10"
  }
 },
 "nbformat": 4,
 "nbformat_minor": 5
}
